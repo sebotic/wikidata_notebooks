{
 "cells": [
  {
   "cell_type": "code",
   "execution_count": 1,
   "metadata": {
    "collapsed": true
   },
   "outputs": [],
   "source": [
    "import pandas as pd\n",
    "import wikidataintegrator as wdi"
   ]
  },
  {
   "cell_type": "markdown",
   "metadata": {},
   "source": [
    "## Prediction of drug-target interactions and drug repositioning via network-based inference (PMID:22589709)"
   ]
  },
  {
   "cell_type": "code",
   "execution_count": 4,
   "metadata": {
    "collapsed": false
   },
   "outputs": [],
   "source": [
    "path = '/home/sebastian/jupyter-notebooks/paper_data/Cheng et al 2012 PMID:22589709/DrugBank_Global_Database/Global_Target_List_With_Score_1.xls.xlsx'\n",
    "\n",
    "pred_data = pd.read_excel(path, header=None)\n"
   ]
  },
  {
   "cell_type": "code",
   "execution_count": 5,
   "metadata": {
    "collapsed": false
   },
   "outputs": [
    {
     "data": {
      "text/html": [
       "<div>\n",
       "<table border=\"1\" class=\"dataframe\">\n",
       "  <thead>\n",
       "    <tr style=\"text-align: right;\">\n",
       "      <th></th>\n",
       "      <th>0</th>\n",
       "      <th>1</th>\n",
       "      <th>2</th>\n",
       "      <th>3</th>\n",
       "      <th>4</th>\n",
       "      <th>5</th>\n",
       "      <th>6</th>\n",
       "      <th>7</th>\n",
       "      <th>8</th>\n",
       "      <th>9</th>\n",
       "      <th>...</th>\n",
       "      <th>1914</th>\n",
       "      <th>1915</th>\n",
       "      <th>1916</th>\n",
       "      <th>1917</th>\n",
       "      <th>1918</th>\n",
       "      <th>1919</th>\n",
       "      <th>1920</th>\n",
       "      <th>1921</th>\n",
       "      <th>1922</th>\n",
       "      <th>1923</th>\n",
       "    </tr>\n",
       "  </thead>\n",
       "  <tbody>\n",
       "    <tr>\n",
       "      <th>0</th>\n",
       "      <td>Chlorophyll a-b binding protein, chloroplast  ...</td>\n",
       "      <td>DB03001</td>\n",
       "      <td>DB02686</td>\n",
       "      <td>DB00819</td>\n",
       "      <td>DB03796</td>\n",
       "      <td>DB01159</td>\n",
       "      <td>DB04079</td>\n",
       "      <td>DB03381</td>\n",
       "      <td>DB02944</td>\n",
       "      <td>DB02687</td>\n",
       "      <td>...</td>\n",
       "      <td>NaN</td>\n",
       "      <td>NaN</td>\n",
       "      <td>NaN</td>\n",
       "      <td>NaN</td>\n",
       "      <td>NaN</td>\n",
       "      <td>NaN</td>\n",
       "      <td>NaN</td>\n",
       "      <td>NaN</td>\n",
       "      <td>NaN</td>\n",
       "      <td>NaN</td>\n",
       "    </tr>\n",
       "    <tr>\n",
       "      <th>1</th>\n",
       "      <td>NaN</td>\n",
       "      <td>0.277778</td>\n",
       "      <td>0.25</td>\n",
       "      <td>0.125</td>\n",
       "      <td>0.0271673</td>\n",
       "      <td>0.0271673</td>\n",
       "      <td>0.0192308</td>\n",
       "      <td>0.0192308</td>\n",
       "      <td>0.0192308</td>\n",
       "      <td>0.0192308</td>\n",
       "      <td>...</td>\n",
       "      <td>NaN</td>\n",
       "      <td>NaN</td>\n",
       "      <td>NaN</td>\n",
       "      <td>NaN</td>\n",
       "      <td>NaN</td>\n",
       "      <td>NaN</td>\n",
       "      <td>NaN</td>\n",
       "      <td>NaN</td>\n",
       "      <td>NaN</td>\n",
       "      <td>NaN</td>\n",
       "    </tr>\n",
       "    <tr>\n",
       "      <th>2</th>\n",
       "      <td>RNASE4 protein                                ...</td>\n",
       "      <td>DB02379</td>\n",
       "      <td>DB04184</td>\n",
       "      <td>DB03014</td>\n",
       "      <td>DB01867</td>\n",
       "      <td>DB02061</td>\n",
       "      <td>DB03389</td>\n",
       "      <td>DB02944</td>\n",
       "      <td>DB02212</td>\n",
       "      <td>DB03754</td>\n",
       "      <td>...</td>\n",
       "      <td>NaN</td>\n",
       "      <td>NaN</td>\n",
       "      <td>NaN</td>\n",
       "      <td>NaN</td>\n",
       "      <td>NaN</td>\n",
       "      <td>NaN</td>\n",
       "      <td>NaN</td>\n",
       "      <td>NaN</td>\n",
       "      <td>NaN</td>\n",
       "      <td>NaN</td>\n",
       "    </tr>\n",
       "    <tr>\n",
       "      <th>3</th>\n",
       "      <td>NaN</td>\n",
       "      <td>0.0417496</td>\n",
       "      <td>0.0402842</td>\n",
       "      <td>0.0279834</td>\n",
       "      <td>0.0188596</td>\n",
       "      <td>0.0187729</td>\n",
       "      <td>0.0179487</td>\n",
       "      <td>0.0175415</td>\n",
       "      <td>0.0129892</td>\n",
       "      <td>0.0129049</td>\n",
       "      <td>...</td>\n",
       "      <td>NaN</td>\n",
       "      <td>NaN</td>\n",
       "      <td>NaN</td>\n",
       "      <td>NaN</td>\n",
       "      <td>NaN</td>\n",
       "      <td>NaN</td>\n",
       "      <td>NaN</td>\n",
       "      <td>NaN</td>\n",
       "      <td>NaN</td>\n",
       "      <td>NaN</td>\n",
       "    </tr>\n",
       "    <tr>\n",
       "      <th>4</th>\n",
       "      <td>Thiazole biosynthetic enzyme, chloroplast     ...</td>\n",
       "      <td>DB04147</td>\n",
       "      <td>DB04522</td>\n",
       "      <td>DB02451</td>\n",
       "      <td>DB03381</td>\n",
       "      <td>DB02944</td>\n",
       "      <td>DB02687</td>\n",
       "      <td>DB03796</td>\n",
       "      <td>DB01728</td>\n",
       "      <td>DB02482</td>\n",
       "      <td>...</td>\n",
       "      <td>NaN</td>\n",
       "      <td>NaN</td>\n",
       "      <td>NaN</td>\n",
       "      <td>NaN</td>\n",
       "      <td>NaN</td>\n",
       "      <td>NaN</td>\n",
       "      <td>NaN</td>\n",
       "      <td>NaN</td>\n",
       "      <td>NaN</td>\n",
       "      <td>NaN</td>\n",
       "    </tr>\n",
       "  </tbody>\n",
       "</table>\n",
       "<p>5 rows × 1924 columns</p>\n",
       "</div>"
      ],
      "text/plain": [
       "                                                0          1          2     \\\n",
       "0  Chlorophyll a-b binding protein, chloroplast  ...    DB03001    DB02686   \n",
       "1                                                NaN   0.277778       0.25   \n",
       "2  RNASE4 protein                                ...    DB02379    DB04184   \n",
       "3                                                NaN  0.0417496  0.0402842   \n",
       "4  Thiazole biosynthetic enzyme, chloroplast     ...    DB04147    DB04522   \n",
       "\n",
       "        3          4          5          6          7          8     \\\n",
       "0    DB00819    DB03796    DB01159    DB04079    DB03381    DB02944   \n",
       "1      0.125  0.0271673  0.0271673  0.0192308  0.0192308  0.0192308   \n",
       "2    DB03014    DB01867    DB02061    DB03389    DB02944    DB02212   \n",
       "3  0.0279834  0.0188596  0.0187729  0.0179487  0.0175415  0.0129892   \n",
       "4    DB02451    DB03381    DB02944    DB02687    DB03796    DB01728   \n",
       "\n",
       "        9    ...  1914 1915 1916 1917 1918 1919 1920 1921 1922 1923  \n",
       "0    DB02687 ...   NaN  NaN  NaN  NaN  NaN  NaN  NaN  NaN  NaN  NaN  \n",
       "1  0.0192308 ...   NaN  NaN  NaN  NaN  NaN  NaN  NaN  NaN  NaN  NaN  \n",
       "2    DB03754 ...   NaN  NaN  NaN  NaN  NaN  NaN  NaN  NaN  NaN  NaN  \n",
       "3  0.0129049 ...   NaN  NaN  NaN  NaN  NaN  NaN  NaN  NaN  NaN  NaN  \n",
       "4    DB02482 ...   NaN  NaN  NaN  NaN  NaN  NaN  NaN  NaN  NaN  NaN  \n",
       "\n",
       "[5 rows x 1924 columns]"
      ]
     },
     "execution_count": 5,
     "metadata": {},
     "output_type": "execute_result"
    }
   ],
   "source": [
    "pred_data.head()"
   ]
  },
  {
   "cell_type": "code",
   "execution_count": 6,
   "metadata": {
    "collapsed": false
   },
   "outputs": [
    {
     "data": {
      "text/plain": [
       "Int64Index([   0,    1,    2,    3,    4,    5,    6,    7,    8,    9,\n",
       "            ...\n",
       "            1914, 1915, 1916, 1917, 1918, 1919, 1920, 1921, 1922, 1923],\n",
       "           dtype='int64', length=1924)"
      ]
     },
     "execution_count": 6,
     "metadata": {},
     "output_type": "execute_result"
    }
   ],
   "source": [
    "pred_data.columns"
   ]
  },
  {
   "cell_type": "code",
   "execution_count": 15,
   "metadata": {
    "collapsed": false
   },
   "outputs": [],
   "source": [
    "pred_map = {}\n",
    "\n",
    "for count, x in pred_data.iterrows():\n",
    "    \n",
    "    if pd.notnull(x[0]) and any([pd.notnull(z) for z in x[1:]]):\n",
    "        drugs = []\n",
    "        for y in x[1:]:\n",
    "            if pd.notnull(y):\n",
    "                drugs.append(y)\n",
    "        \n",
    "        pred_map.update({x[0]: drugs})\n",
    "        \n",
    "            \n",
    "            \n",
    "        "
   ]
  },
  {
   "cell_type": "code",
   "execution_count": 16,
   "metadata": {
    "collapsed": false
   },
   "outputs": [
    {
     "name": "stdout",
     "output_type": "stream",
     "text": [
      "3487\n"
     ]
    }
   ],
   "source": [
    "print(len(pred_map))"
   ]
  },
  {
   "cell_type": "code",
   "execution_count": 25,
   "metadata": {
    "collapsed": false
   },
   "outputs": [
    {
     "name": "stdout",
     "output_type": "stream",
     "text": [
      "current count: 0\n",
      "current count: 62\n",
      "current count: 133\n",
      "current count: 197\n",
      "current count: 263\n",
      "current count: 329\n",
      "current count: 386\n",
      "current count: 450\n",
      "current count: 515\n",
      "current count: 582\n",
      "current count: 636\n",
      "current count: 701\n",
      "current count: 765\n",
      "current count: 828\n",
      "current count: 882\n",
      "current count: 951\n",
      "current count: 1014\n",
      "current count: 1082\n",
      "current count: 1140\n",
      "current count: 1196\n",
      "current count: 1260\n",
      "current count: 1331\n",
      "current count: 1389\n",
      "current count: 1449\n",
      "current count: 1510\n",
      "current count: 1571\n",
      "current count: 1632\n",
      "current count: 1695\n",
      "current count: 1757\n",
      "current count: 1832\n",
      "current count: 1887\n",
      "current count: 1962\n",
      "current count: 2030\n",
      "current count: 2091\n",
      "current count: 2152\n",
      "2205\n"
     ]
    }
   ],
   "source": [
    "import requests\n",
    "import pprint\n",
    "\n",
    "s = requests.Session()\n",
    "\n",
    "def search_wikidata(search_term, data_class, category):\n",
    "    # data class e.g chemical compound (Q11173), category e.g. P31 (instance of), P279 (subclass of)\n",
    "    \n",
    "    url = 'https://www.wikidata.org/w/api.php'\n",
    "    params = {\n",
    "        'action': 'wbsearchentities',\n",
    "        'search': search_term,\n",
    "        'language': 'en',\n",
    "        'type': 'item',\n",
    "        'format': 'json',\n",
    "        'limit': 50\n",
    "    }\n",
    "    \n",
    "    r = s.get(url=url, params=params).json()\n",
    "    \n",
    "#     pprint.pprint(r)\n",
    "    return len(r['search'])\n",
    "\n",
    "something_found_count = 0\n",
    "for c, x in enumerate(pred_map):\n",
    "    sres_length = search_wikidata(x, '', '')\n",
    "    \n",
    "    if sres_length > 0:\n",
    "        something_found_count += 1\n",
    "    \n",
    "    if c % 100 == 0:\n",
    "        print('current count:', something_found_count, 'total searches:', c)\n",
    "    \n",
    "#     if c > 4:\n",
    "#         break\n",
    "    \n",
    "    \n",
    "print(something_found_count)\n",
    "    "
   ]
  },
  {
   "cell_type": "code",
   "execution_count": null,
   "metadata": {
    "collapsed": true
   },
   "outputs": [],
   "source": []
  }
 ],
 "metadata": {
  "kernelspec": {
   "display_name": "Python 3",
   "language": "python",
   "name": "python3"
  },
  "language_info": {
   "codemirror_mode": {
    "name": "ipython",
    "version": 3
   },
   "file_extension": ".py",
   "mimetype": "text/x-python",
   "name": "python",
   "nbconvert_exporter": "python",
   "pygments_lexer": "ipython3",
   "version": "3.5.3"
  }
 },
 "nbformat": 4,
 "nbformat_minor": 2
}
