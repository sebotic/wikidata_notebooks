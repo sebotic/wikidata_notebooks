{
 "cells": [
  {
   "cell_type": "code",
   "execution_count": 1,
   "metadata": {
    "collapsed": true
   },
   "outputs": [],
   "source": [
    "import pandas as pd\n",
    "import wikidataintegrator as wdi"
   ]
  },
  {
   "cell_type": "markdown",
   "metadata": {},
   "source": [
    "### Du et al: Ligand cluster-based protein network and ePlatton, a multi-target ligand finder PMID:27143991 "
   ]
  },
  {
   "cell_type": "code",
   "execution_count": 2,
   "metadata": {
    "collapsed": false,
    "scrolled": true
   },
   "outputs": [
    {
     "data": {
      "text/html": [
       "<div>\n",
       "<table border=\"1\" class=\"dataframe\">\n",
       "  <thead>\n",
       "    <tr style=\"text-align: right;\">\n",
       "      <th></th>\n",
       "      <th>disease</th>\n",
       "      <th>omim</th>\n",
       "      <th>genes</th>\n",
       "      <th>primary_gene</th>\n",
       "      <th>chembl</th>\n",
       "      <th>cluster</th>\n",
       "    </tr>\n",
       "  </thead>\n",
       "  <tbody>\n",
       "    <tr>\n",
       "      <th>0</th>\n",
       "      <td>17,20-lyase deficiency, isolated</td>\n",
       "      <td>202110</td>\n",
       "      <td>CYP17A1|CYP17|P450C17</td>\n",
       "      <td>CYP17A1</td>\n",
       "      <td>CHEMBL1766178|CHEMBL1172847|CHEMBL390569|CHEMB...</td>\n",
       "      <td>CLUSTER5314|CLUSTER5656|CLUSTER4969|CLUSTER628...</td>\n",
       "    </tr>\n",
       "    <tr>\n",
       "      <th>1</th>\n",
       "      <td>17-alpha-hydroxylase/17,20-lyase deficiency</td>\n",
       "      <td>202110</td>\n",
       "      <td>CYP17A1|CYP17|P450C17</td>\n",
       "      <td>CYP17A1</td>\n",
       "      <td>CHEMBL1766178|CHEMBL1172847|CHEMBL390569|CHEMB...</td>\n",
       "      <td>CLUSTER5314|CLUSTER5656|CLUSTER4969|CLUSTER628...</td>\n",
       "    </tr>\n",
       "    <tr>\n",
       "      <th>2</th>\n",
       "      <td>3MC syndrome 2</td>\n",
       "      <td>265050</td>\n",
       "      <td>COLEC11|CLK1|3MC2</td>\n",
       "      <td>CLK1</td>\n",
       "      <td>CHEMBL1435542|CHEMBL1892019|CHEMBL1802401|CHEM...</td>\n",
       "      <td>CLUSTER10427|CLUSTER7415|CLUSTER2715|CLUSTER10...</td>\n",
       "    </tr>\n",
       "    <tr>\n",
       "      <th>3</th>\n",
       "      <td>46XY sex reversal 3</td>\n",
       "      <td>612965</td>\n",
       "      <td>NR5A1|FTZF1|FTZ1|SF1|AD4BP|POF7|SRXY3|SPGF8</td>\n",
       "      <td>NR5A1</td>\n",
       "      <td>CHEMBL1765962|CHEMBL1715382|CHEMBL1765954|CHEM...</td>\n",
       "      <td>CLUSTER1423|CLUSTER4891|CLUSTER11468|CLUSTER31...</td>\n",
       "    </tr>\n",
       "    <tr>\n",
       "      <th>4</th>\n",
       "      <td>46XY sex reversal 8</td>\n",
       "      <td>614279</td>\n",
       "      <td>AKR1C2|DDH2|DD2|HAKRD|SRXY8</td>\n",
       "      <td>AKR1C2</td>\n",
       "      <td>CHEMBL686|CHEMBL1277741|CHEMBL1275703|CHEMBL33...</td>\n",
       "      <td>CLUSTER10569|CLUSTER3564|CLUSTER8033|CLUSTER78...</td>\n",
       "    </tr>\n",
       "  </tbody>\n",
       "</table>\n",
       "</div>"
      ],
      "text/plain": [
       "                                       disease    omim  \\\n",
       "0             17,20-lyase deficiency, isolated  202110   \n",
       "1  17-alpha-hydroxylase/17,20-lyase deficiency  202110   \n",
       "2                               3MC syndrome 2  265050   \n",
       "3                          46XY sex reversal 3  612965   \n",
       "4                          46XY sex reversal 8  614279   \n",
       "\n",
       "                                         genes primary_gene  \\\n",
       "0                        CYP17A1|CYP17|P450C17      CYP17A1   \n",
       "1                        CYP17A1|CYP17|P450C17      CYP17A1   \n",
       "2                            COLEC11|CLK1|3MC2         CLK1   \n",
       "3  NR5A1|FTZF1|FTZ1|SF1|AD4BP|POF7|SRXY3|SPGF8        NR5A1   \n",
       "4                  AKR1C2|DDH2|DD2|HAKRD|SRXY8       AKR1C2   \n",
       "\n",
       "                                              chembl  \\\n",
       "0  CHEMBL1766178|CHEMBL1172847|CHEMBL390569|CHEMB...   \n",
       "1  CHEMBL1766178|CHEMBL1172847|CHEMBL390569|CHEMB...   \n",
       "2  CHEMBL1435542|CHEMBL1892019|CHEMBL1802401|CHEM...   \n",
       "3  CHEMBL1765962|CHEMBL1715382|CHEMBL1765954|CHEM...   \n",
       "4  CHEMBL686|CHEMBL1277741|CHEMBL1275703|CHEMBL33...   \n",
       "\n",
       "                                             cluster  \n",
       "0  CLUSTER5314|CLUSTER5656|CLUSTER4969|CLUSTER628...  \n",
       "1  CLUSTER5314|CLUSTER5656|CLUSTER4969|CLUSTER628...  \n",
       "2  CLUSTER10427|CLUSTER7415|CLUSTER2715|CLUSTER10...  \n",
       "3  CLUSTER1423|CLUSTER4891|CLUSTER11468|CLUSTER31...  \n",
       "4  CLUSTER10569|CLUSTER3564|CLUSTER8033|CLUSTER78...  "
      ]
     },
     "execution_count": 2,
     "metadata": {},
     "output_type": "execute_result"
    }
   ],
   "source": [
    "du_data = pd.read_csv('./paper_data/Du et al 2016 PMID:27143991/DISEASETABLE-disease_name-disease_id-all_gene_symbolCSV-gene_symbolCSV-chembl_idCSV-cluster_idCSV.tab', \n",
    "                      sep='\\t', header=None, names=['disease', 'omim','genes', 'primary_gene', 'chembl', 'cluster'])\n",
    "du_data.head()"
   ]
  },
  {
   "cell_type": "code",
   "execution_count": 3,
   "metadata": {
    "collapsed": false
   },
   "outputs": [
    {
     "data": {
      "text/plain": [
       "disease         736\n",
       "omim            736\n",
       "genes           736\n",
       "primary_gene    736\n",
       "chembl          736\n",
       "cluster         736\n",
       "dtype: int64"
      ]
     },
     "execution_count": 3,
     "metadata": {},
     "output_type": "execute_result"
    }
   ],
   "source": [
    "du_data.count()"
   ]
  },
  {
   "cell_type": "code",
   "execution_count": 4,
   "metadata": {
    "collapsed": false
   },
   "outputs": [
    {
     "name": "stdout",
     "output_type": "stream",
     "text": [
      "OMIM missing 608688\n",
      "OMIM missing 613933\n",
      "OMIM missing \\N\n",
      "OMIM missing \\N\n",
      "OMIM missing 307200\n",
      "OMIM missing 610251\n",
      "OMIM missing \\N\n",
      "OMIM missing \\N\n",
      "OMIM missing \\N\n",
      "OMIM missing \\N\n",
      "OMIM missing 613546\n",
      "OMIM missing 300645\n",
      "OMIM missing \\N\n",
      "OMIM missing \\N\n",
      "OMIM missing \\N\n",
      "OMIM missing 613291\n",
      "OMIM missing \\N\n",
      "OMIM missing 610474\n",
      "OMIM missing 211800\n",
      "OMIM missing 614162\n",
      "OMIM missing \\N\n",
      "OMIM missing 212070\n",
      "OMIM missing \\N\n",
      "OMIM missing 609338\n",
      "OMIM missing 610127\n",
      "OMIM missing 615362\n",
      "OMIM missing 300863\n",
      "OMIM missing 609441\n",
      "OMIM missing \\N\n",
      "OMIM missing 609535\n",
      "OMIM missing 614306\n",
      "OMIM missing \\N\n",
      "OMIM missing \\N\n",
      "OMIM missing \\N\n",
      "OMIM missing 613912\n",
      "OMIM missing 217090\n",
      "OMIM missing 614039\n",
      "OMIM missing \\N\n",
      "OMIM missing 614662\n",
      "OMIM missing 122700\n",
      "OMIM missing \\N\n",
      "OMIM missing 612247\n",
      "OMIM missing 614564\n",
      "OMIM missing \\N\n",
      "OMIM missing \\N\n",
      "OMIM missing \\N\n",
      "OMIM missing 112250\n",
      "OMIM missing 606835\n",
      "OMIM missing \\N\n",
      "OMIM missing \\N\n",
      "OMIM missing \\N\n",
      "OMIM missing 612132\n",
      "OMIM missing 614546\n",
      "OMIM missing \\N\n",
      "OMIM missing 268100\n",
      "OMIM missing 612138\n",
      "OMIM missing 615040\n",
      "OMIM missing 245340\n",
      "OMIM missing 609820\n",
      "OMIM missing 611783\n",
      "OMIM missing 227500\n",
      "OMIM missing 227600\n",
      "OMIM missing 134700\n",
      "OMIM missing 228980\n",
      "OMIM missing 612423\n",
      "OMIM missing 231005\n",
      "OMIM missing 609446\n",
      "OMIM missing 612933\n",
      "OMIM missing 612938\n",
      "OMIM missing 615465\n",
      "OMIM missing \\N\n",
      "OMIM missing 602089\n",
      "OMIM missing 602089\n",
      "OMIM missing 614034\n",
      "OMIM missing \\N\n",
      "OMIM missing 614025\n",
      "OMIM missing 613870\n",
      "OMIM missing \\N\n",
      "OMIM missing 250940\n",
      "OMIM missing 143470\n",
      "OMIM missing 143880\n",
      "OMIM missing \\N\n",
      "OMIM missing 143860\n",
      "OMIM missing 607748\n",
      "OMIM missing 612348\n",
      "OMIM missing 239200\n",
      "OMIM missing 605115\n",
      "OMIM missing 203400\n",
      "OMIM missing 610600\n",
      "OMIM missing 601198\n",
      "OMIM missing 601198\n",
      "OMIM missing 240800\n",
      "OMIM missing 614840\n",
      "OMIM missing 146110\n",
      "OMIM missing 614837\n",
      "OMIM missing 240900\n",
      "OMIM missing \\N\n",
      "OMIM missing 278150\n",
      "OMIM missing 220150\n",
      "OMIM missing 607676\n",
      "OMIM missing 610765\n",
      "OMIM missing 614328\n",
      "OMIM missing \\N\n",
      "OMIM missing 270450\n",
      "OMIM missing 610799\n",
      "OMIM missing 614128\n",
      "OMIM missing 615368\n",
      "OMIM missing \\N\n",
      "OMIM missing \\N\n",
      "OMIM missing \\N\n",
      "OMIM missing \\N\n",
      "OMIM missing \\N\n",
      "OMIM missing 613724\n",
      "OMIM missing 614037\n",
      "OMIM missing \\N\n",
      "OMIM missing 608967\n",
      "OMIM missing 610380\n",
      "OMIM missing \\N\n",
      "OMIM missing \\N\n",
      "OMIM missing 603387\n",
      "OMIM missing 603387\n",
      "OMIM missing \\N\n",
      "OMIM missing \\N\n",
      "OMIM missing \\N\n",
      "OMIM missing 609535\n",
      "OMIM missing 613073\n",
      "OMIM missing 156530\n",
      "OMIM missing 611638\n",
      "OMIM missing 614497\n",
      "OMIM missing 615524\n",
      "OMIM missing 263750\n",
      "OMIM missing 608840\n",
      "OMIM missing 614198\n",
      "OMIM missing 608931\n",
      "OMIM missing 608930\n",
      "OMIM missing 613796\n",
      "OMIM missing 209950\n",
      "OMIM missing \\N\n",
      "OMIM missing 131440\n",
      "OMIM missing 614937\n",
      "OMIM missing 615511\n",
      "OMIM missing 300539\n",
      "OMIM missing 615491\n",
      "OMIM missing 257270\n",
      "OMIM missing \\N\n",
      "OMIM missing 600955\n",
      "OMIM missing \\N\n",
      "OMIM missing 613886\n",
      "OMIM missing 608615\n",
      "OMIM missing 609535\n",
      "OMIM missing 604715\n",
      "OMIM missing 602475\n",
      "OMIM missing 166250\n",
      "OMIM missing \\N\n",
      "OMIM missing 276400\n",
      "OMIM missing \\N\n",
      "OMIM missing \\N\n",
      "OMIM missing 613135\n",
      "OMIM missing \\N\n",
      "OMIM missing \\N\n",
      "OMIM missing \\N\n",
      "OMIM missing \\N\n",
      "OMIM missing 613329\n",
      "OMIM missing \\N\n",
      "OMIM missing \\N\n",
      "OMIM missing 614278\n",
      "OMIM missing 613095\n",
      "OMIM missing 612674\n",
      "OMIM missing 610069\n",
      "OMIM missing 604559\n",
      "OMIM missing 609535\n",
      "OMIM missing 603688\n",
      "OMIM missing 177735\n",
      "OMIM missing 267430\n",
      "OMIM missing 267430\n",
      "OMIM missing 267430\n",
      "OMIM missing 615147\n",
      "OMIM missing \\N\n",
      "OMIM missing \\N\n",
      "OMIM missing 184095\n",
      "OMIM missing 609464\n",
      "OMIM missing \\N\n",
      "OMIM missing 181405\n",
      "OMIM missing \\N\n",
      "OMIM missing 269840\n",
      "OMIM missing \\N\n",
      "OMIM missing 604271\n",
      "OMIM missing 607250\n",
      "OMIM missing 271665\n",
      "OMIM missing 260540\n",
      "OMIM missing \\N\n",
      "OMIM missing 614868\n",
      "OMIM missing \\N\n",
      "OMIM missing \\N\n",
      "OMIM missing 612304\n",
      "OMIM missing 300807\n",
      "OMIM missing \\N\n",
      "OMIM missing 612348\n",
      "OMIM missing \\N\n",
      "OMIM missing \\N\n",
      "OMIM missing 145650\n",
      "OMIM missing \\N\n",
      "OMIM missing \\N\n",
      "OMIM missing 190440\n",
      "OMIM missing 614044\n",
      "OMIM missing 614327\n",
      "OMIM missing 611521\n",
      "OMIM missing 603829\n",
      "OMIM missing 192605\n",
      "OMIM missing 122700\n",
      "OMIM missing 278150\n"
     ]
    }
   ],
   "source": [
    "query = '''\n",
    "select distinct ?d ?omim ?dLabel where { \n",
    "  ?d wdt:P492 ?omim .\n",
    "  SERVICE wikibase:label {bd:serviceParam wikibase:language \"en\" .}  \n",
    "}\n",
    "group by ?d ?omim ?dLabel\n",
    "'''\n",
    "\n",
    "r = wdi.wdi_core.WDItemEngine.execute_sparql_query(query)\n",
    "\n",
    "omim_map = {}\n",
    "\n",
    "for x in r['results']['bindings']:\n",
    "    omim_map.update({x['omim']['value']: (x['d']['value'], x['dLabel']['value'])})\n",
    "\n",
    "missing_set = set()\n",
    "for c, x in du_data.iterrows():\n",
    "    if x['omim'] not in omim_map:\n",
    "        print('OMIM missing', x['omim'])\n",
    "        missing_set.add(x['omim'])"
   ]
  },
  {
   "cell_type": "code",
   "execution_count": 5,
   "metadata": {
    "collapsed": false
   },
   "outputs": [
    {
     "data": {
      "text/plain": [
       "134"
      ]
     },
     "execution_count": 5,
     "metadata": {},
     "output_type": "execute_result"
    }
   ],
   "source": [
    "len(missing_set)"
   ]
  },
  {
   "cell_type": "code",
   "execution_count": 29,
   "metadata": {
    "collapsed": false
   },
   "outputs": [],
   "source": [
    "query = '''\n",
    "    select distinct ?c ?chembl ?cLabel where { \n",
    "      ?c wdt:P592 ?chembl . \n",
    "      SERVICE wikibase:label {bd:serviceParam wikibase:language \"en\" .}\n",
    "    }\n",
    "'''\n",
    "\n",
    "r = wdi.wdi_core.WDItemEngine.execute_sparql_query(query)\n",
    "\n",
    "chembl_map = {}\n",
    "\n",
    "for x in r['results']['bindings']:\n",
    "    chembl_map.update({x['chembl']['value']: (x['c']['value'], x['cLabel']['value'])})\n",
    "    \n",
    "cols = ['disease', 'omim', 'gene', 'chembl', 'disease_qid', 'wd_disease_label', 'drug_qid', 'wd_drug_label']\n",
    "    \n",
    "du_df = pd.DataFrame([], columns=cols)\n",
    "du_list = []\n",
    "for c, x in du_data.iterrows():\n",
    "    \n",
    "    if x['omim'] in omim_map:\n",
    "                \n",
    "        for ci in x['chembl'].split('|'):\n",
    "            if ci in chembl_map:\n",
    "                tmp_df = pd.DataFrame(columns=cols)\n",
    "                tmp_df.loc[0, 'disease'] = x['disease']\n",
    "                tmp_df.loc[0, 'omim'] = x['omim']\n",
    "                tmp_df.loc[0, 'gene'] = x['primary_gene']\n",
    "                tmp_df.loc[0, 'chembl'] = ci\n",
    "                tmp_df.loc[0, 'disease_qid'] = omim_map[x['omim']][0]\n",
    "                tmp_df.loc[0, 'wd_disease_label'] = omim_map[x['omim']][1]\n",
    "                                \n",
    "                tmp_df.loc[0, 'drug_qid'] = chembl_map[ci][0]\n",
    "                tmp_df.loc[0, 'wd_drug_label'] = chembl_map[ci][1]\n",
    "                \n",
    "                du_df = du_df.append(tmp_df, ignore_index=True)                \n",
    "                \n",
    "                du_list.append({\n",
    "                    'Disease name': x['disease'],\n",
    "                    'Drug name': chembl_map[ci][1],\n",
    "                    'disease_qid': omim_map[x['omim']][0],\n",
    "                    'drug_qid': chembl_map[ci][0]\n",
    "                })\n",
    "                "
   ]
  },
  {
   "cell_type": "code",
   "execution_count": 30,
   "metadata": {
    "collapsed": false
   },
   "outputs": [
    {
     "data": {
      "text/html": [
       "<div>\n",
       "<table border=\"1\" class=\"dataframe\">\n",
       "  <thead>\n",
       "    <tr style=\"text-align: right;\">\n",
       "      <th></th>\n",
       "      <th>disease</th>\n",
       "      <th>omim</th>\n",
       "      <th>gene</th>\n",
       "      <th>chembl</th>\n",
       "      <th>disease_qid</th>\n",
       "      <th>wd_disease_label</th>\n",
       "      <th>drug_qid</th>\n",
       "      <th>wd_drug_label</th>\n",
       "    </tr>\n",
       "  </thead>\n",
       "  <tbody>\n",
       "    <tr>\n",
       "      <th>0</th>\n",
       "      <td>17,20-lyase deficiency, isolated</td>\n",
       "      <td>202110</td>\n",
       "      <td>CYP17A1</td>\n",
       "      <td>CHEMBL390569</td>\n",
       "      <td>http://www.wikidata.org/entity/Q366868</td>\n",
       "      <td>congenital adrenal hyperplasia</td>\n",
       "      <td>http://www.wikidata.org/entity/Q27294361</td>\n",
       "      <td>bw-19</td>\n",
       "    </tr>\n",
       "    <tr>\n",
       "      <th>1</th>\n",
       "      <td>17,20-lyase deficiency, isolated</td>\n",
       "      <td>202110</td>\n",
       "      <td>CYP17A1</td>\n",
       "      <td>CHEMBL295698</td>\n",
       "      <td>http://www.wikidata.org/entity/Q366868</td>\n",
       "      <td>congenital adrenal hyperplasia</td>\n",
       "      <td>http://www.wikidata.org/entity/Q27120779</td>\n",
       "      <td>(2S,4R)-ketoconazole</td>\n",
       "    </tr>\n",
       "    <tr>\n",
       "      <th>2</th>\n",
       "      <td>17,20-lyase deficiency, isolated</td>\n",
       "      <td>202110</td>\n",
       "      <td>CYP17A1</td>\n",
       "      <td>CHEMBL808</td>\n",
       "      <td>http://www.wikidata.org/entity/Q366868</td>\n",
       "      <td>congenital adrenal hyperplasia</td>\n",
       "      <td>http://www.wikidata.org/entity/Q417141</td>\n",
       "      <td>econazole</td>\n",
       "    </tr>\n",
       "    <tr>\n",
       "      <th>3</th>\n",
       "      <td>17,20-lyase deficiency, isolated</td>\n",
       "      <td>202110</td>\n",
       "      <td>CYP17A1</td>\n",
       "      <td>CHEMBL1921985</td>\n",
       "      <td>http://www.wikidata.org/entity/Q366868</td>\n",
       "      <td>congenital adrenal hyperplasia</td>\n",
       "      <td>http://www.wikidata.org/entity/Q27254066</td>\n",
       "      <td>(R)-orteronel</td>\n",
       "    </tr>\n",
       "    <tr>\n",
       "      <th>4</th>\n",
       "      <td>17,20-lyase deficiency, isolated</td>\n",
       "      <td>202110</td>\n",
       "      <td>CYP17A1</td>\n",
       "      <td>CHEMBL1921977</td>\n",
       "      <td>http://www.wikidata.org/entity/Q366868</td>\n",
       "      <td>congenital adrenal hyperplasia</td>\n",
       "      <td>http://www.wikidata.org/entity/Q6581305</td>\n",
       "      <td>6-(7-hydroxy-5,6-dihydropyrrolo[1,2-c]imidazol...</td>\n",
       "    </tr>\n",
       "  </tbody>\n",
       "</table>\n",
       "</div>"
      ],
      "text/plain": [
       "                            disease    omim     gene         chembl  \\\n",
       "0  17,20-lyase deficiency, isolated  202110  CYP17A1   CHEMBL390569   \n",
       "1  17,20-lyase deficiency, isolated  202110  CYP17A1   CHEMBL295698   \n",
       "2  17,20-lyase deficiency, isolated  202110  CYP17A1      CHEMBL808   \n",
       "3  17,20-lyase deficiency, isolated  202110  CYP17A1  CHEMBL1921985   \n",
       "4  17,20-lyase deficiency, isolated  202110  CYP17A1  CHEMBL1921977   \n",
       "\n",
       "                              disease_qid                wd_disease_label  \\\n",
       "0  http://www.wikidata.org/entity/Q366868  congenital adrenal hyperplasia   \n",
       "1  http://www.wikidata.org/entity/Q366868  congenital adrenal hyperplasia   \n",
       "2  http://www.wikidata.org/entity/Q366868  congenital adrenal hyperplasia   \n",
       "3  http://www.wikidata.org/entity/Q366868  congenital adrenal hyperplasia   \n",
       "4  http://www.wikidata.org/entity/Q366868  congenital adrenal hyperplasia   \n",
       "\n",
       "                                   drug_qid  \\\n",
       "0  http://www.wikidata.org/entity/Q27294361   \n",
       "1  http://www.wikidata.org/entity/Q27120779   \n",
       "2    http://www.wikidata.org/entity/Q417141   \n",
       "3  http://www.wikidata.org/entity/Q27254066   \n",
       "4   http://www.wikidata.org/entity/Q6581305   \n",
       "\n",
       "                                       wd_drug_label  \n",
       "0                                              bw-19  \n",
       "1                               (2S,4R)-ketoconazole  \n",
       "2                                          econazole  \n",
       "3                                      (R)-orteronel  \n",
       "4  6-(7-hydroxy-5,6-dihydropyrrolo[1,2-c]imidazol...  "
      ]
     },
     "execution_count": 30,
     "metadata": {},
     "output_type": "execute_result"
    }
   ],
   "source": [
    "du_df.head()"
   ]
  },
  {
   "cell_type": "code",
   "execution_count": 33,
   "metadata": {
    "collapsed": false
   },
   "outputs": [
    {
     "data": {
      "text/plain": [
       "6870"
      ]
     },
     "execution_count": 33,
     "metadata": {},
     "output_type": "execute_result"
    }
   ],
   "source": [
    "du_df.to_csv('du_data_wd_annot.csv')\n",
    "len(du_df)"
   ]
  },
  {
   "cell_type": "code",
   "execution_count": 32,
   "metadata": {
    "collapsed": false
   },
   "outputs": [
    {
     "data": {
      "text/plain": [
       "6870"
      ]
     },
     "execution_count": 32,
     "metadata": {},
     "output_type": "execute_result"
    }
   ],
   "source": [
    "len(du_list)"
   ]
  },
  {
   "cell_type": "code",
   "execution_count": null,
   "metadata": {
    "collapsed": true
   },
   "outputs": [],
   "source": [
    "du_list.head()"
   ]
  },
  {
   "cell_type": "code",
   "execution_count": null,
   "metadata": {
    "collapsed": false
   },
   "outputs": [],
   "source": [
    "import pprint\n",
    "pprint.pprint(du_list, width=300)"
   ]
  },
  {
   "cell_type": "code",
   "execution_count": null,
   "metadata": {
    "collapsed": true
   },
   "outputs": [],
   "source": [
    "import json\n",
    "\n",
    "with open('du_data.txt', 'w') as outfile:\n",
    "    json.dump(du_list, outfile)"
   ]
  },
  {
   "cell_type": "code",
   "execution_count": null,
   "metadata": {
    "collapsed": true
   },
   "outputs": [],
   "source": []
  }
 ],
 "metadata": {
  "kernelspec": {
   "display_name": "Python 3",
   "language": "python",
   "name": "python3"
  },
  "language_info": {
   "codemirror_mode": {
    "name": "ipython",
    "version": 3
   },
   "file_extension": ".py",
   "mimetype": "text/x-python",
   "name": "python",
   "nbconvert_exporter": "python",
   "pygments_lexer": "ipython3",
   "version": "3.5.3"
  }
 },
 "nbformat": 4,
 "nbformat_minor": 2
}
