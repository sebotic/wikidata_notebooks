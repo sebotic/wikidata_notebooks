{
 "cells": [
  {
   "cell_type": "code",
   "execution_count": 1,
   "metadata": {
    "collapsed": false
   },
   "outputs": [
    {
     "name": "stdout",
     "output_type": "stream",
     "text": [
      "No config file found at /home/sebastian/.moldesign/moldesign.yml - using defaults\n"
     ]
    }
   ],
   "source": [
    "import moldesign as mdt, moldesign.units as u\n",
    "\n",
    "mdt.viewer.GeometryViewer.DEFAULT_HEIGHT = 800\n",
    "mdt.viewer.GeometryViewer.DEFAULT_WIDTH = 800\n",
    "\n",
    "dabrafenib = mdt.from_smiles('CC(C)(C)c1nc(c2cccc(NS(=O)(=O)c3c(F)cccc3F)c2F)c(s1)c4ccnc(N)n4')\n",
    "plx7922 = mdt.from_smiles('CC(C)(C)C1=NC(C2=CC=CC(NS(=O)(=O)N(C)(CC))=C2F)=C(S1)C4=CC=NC(N)=N4')\n",
    "\n",
    "dabrafenib.draw()"
   ]
  },
  {
   "cell_type": "code",
   "execution_count": 2,
   "metadata": {
    "collapsed": false
   },
   "outputs": [],
   "source": [
    "plx7922.draw()"
   ]
  },
  {
   "cell_type": "code",
   "execution_count": 3,
   "metadata": {
    "collapsed": false
   },
   "outputs": [
    {
     "name": "stderr",
     "output_type": "stream",
     "text": [
      "/usr/lib64/python2.7/site-packages/Bio/PDB/StructureBuilder.py:85: PDBConstructionWarning: WARNING: Chain A is discontinuous at line 8350.\n",
      "  PDBConstructionWarning)\n",
      "/usr/lib64/python2.7/site-packages/Bio/PDB/StructureBuilder.py:85: PDBConstructionWarning: WARNING: Chain B is discontinuous at line 8437.\n",
      "  PDBConstructionWarning)\n"
     ]
    },
    {
     "name": "stdout",
     "output_type": "stream",
     "text": [
      "WARN: large structure; waters not shown by default.\n"
     ]
    }
   ],
   "source": [
    "\n",
    "mol = mdt.from_pdb('4XV3')\n",
    "mol.draw()\n"
   ]
  }
 ],
 "metadata": {
  "kernelspec": {
   "display_name": "Python 2",
   "language": "python",
   "name": "python2"
  },
  "language_info": {
   "codemirror_mode": {
    "name": "ipython",
    "version": 2
   },
   "file_extension": ".py",
   "mimetype": "text/x-python",
   "name": "python",
   "nbconvert_exporter": "python",
   "pygments_lexer": "ipython2",
   "version": "2.7.12"
  },
  "widgets": {
   "state": {
    "6136a098438e41a0b1aeee1a246417ee": {
     "views": [
      {
       "cell_index": 0
      }
     ]
    },
    "a5bcb9dd62c3416eaead9c5c53ec9b0a": {
     "views": [
      {
       "cell_index": 2
      }
     ]
    },
    "d34693b9a33c484eb3885d56b307ea60": {
     "views": [
      {
       "cell_index": 1
      }
     ]
    }
   },
   "version": "1.2.0"
  }
 },
 "nbformat": 4,
 "nbformat_minor": 1
}
