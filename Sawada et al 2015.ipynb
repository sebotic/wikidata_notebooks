{
 "cells": [
  {
   "cell_type": "code",
   "execution_count": 5,
   "metadata": {
    "collapsed": true
   },
   "outputs": [],
   "source": [
    "import requests\n",
    "import wikidataintegrator as wdi\n",
    "import pandas as pd"
   ]
  },
  {
   "cell_type": "code",
   "execution_count": 6,
   "metadata": {
    "collapsed": true
   },
   "outputs": [],
   "source": [
    "def sparql_map(prop_nr):\n",
    "    query = '''\n",
    "    SELECT DISTINCT * WHERE {{\n",
    "        ?c wdt:{} ?id .\n",
    "    }}\n",
    "    '''.format(prop_nr)\n",
    "    \n",
    "    results = wdi.wdi_core.WDItemEngine.execute_sparql_query(query)\n",
    "    \n",
    "    id_map = {}\n",
    "    for x in results['results']['bindings']:\n",
    "        id_map.update({x['id']['value']: x['c']['value']})\n",
    "        \n",
    "    return id_map"
   ]
  },
  {
   "cell_type": "code",
   "execution_count": 7,
   "metadata": {
    "collapsed": true
   },
   "outputs": [],
   "source": [
    "def generate_gene_protein_map():\n",
    "    query = '''\n",
    "    SELECT DISTINCT * WHERE {\n",
    "      ?c wdt:P351 ?entrez.\n",
    "      ?c wdt:P703 wd:Q15978631.\n",
    "      ?c wdt:P688 ?protein.\n",
    "      ?protein wdt:P352 ?uniprot .\n",
    "    }\n",
    "    '''\n",
    "    \n",
    "    results = wdi.wdi_core.WDItemEngine.execute_sparql_query(query)\n",
    "    \n",
    "    id_map = {}\n",
    "    for x in results['results']['bindings']:\n",
    "        if x['entrez']['value'] in id_map:\n",
    "            id_map[x['entrez']['value']].add(x['protein']['value'])\n",
    "        else:\n",
    "            id_map.update({x['entrez']['value']: {x['protein']['value']}})\n",
    "        \n",
    "    return id_map\n",
    "\n",
    "gene_protein_map = generate_gene_protein_map()"
   ]
  },
  {
   "cell_type": "code",
   "execution_count": 12,
   "metadata": {
    "collapsed": false
   },
   "outputs": [
    {
     "name": "stdout",
     "output_type": "stream",
     "text": [
      "12501\n"
     ]
    }
   ],
   "source": [
    "files = [\n",
    "    '/home/sebastian/jupyter-notebooks/paper_data/Sawada et al 2015 data PMID:26580494/pred-DPI_phen.txt/pred-DPI_phen.txt',\n",
    "    '/home/sebastian/jupyter-notebooks/paper_data/Sawada et al 2015 data PMID:26580494/pred-DPI_chem.txt/pred-DPI_chem.txt'\n",
    "]\n",
    "\n",
    "drug_target_list = []\n",
    "\n",
    "\n",
    "kegg_map = sparql_map('P665')\n",
    "\n",
    "for ff in files:\n",
    "    data = pd.read_csv(ff, header=0, sep='\\t')\n",
    "    \n",
    "    for count, x in data.iterrows():\n",
    "        kegg = x['drug']\n",
    "        if kegg in kegg_map:\n",
    "            kegg_qid = kegg_map[kegg]\n",
    "        else:\n",
    "            continue            \n",
    "        \n",
    "        entrez = x['protein'][4:]\n",
    "                \n",
    "        if entrez in gene_protein_map:\n",
    "            for e in gene_protein_map[entrez]:\n",
    "                drug_target_list.append({'drug_qid': kegg_qid, 'target_qid': e})\n",
    "            \n",
    "print(len(drug_target_list))"
   ]
  },
  {
   "cell_type": "code",
   "execution_count": 13,
   "metadata": {
    "collapsed": false
   },
   "outputs": [
    {
     "name": "stdout",
     "output_type": "stream",
     "text": [
      "{'drug_qid': 'http://www.wikidata.org/entity/Q22075909', 'target_qid': 'http://www.wikidata.org/entity/Q21111224'}\n"
     ]
    }
   ],
   "source": [
    "print(drug_target_list[1])"
   ]
  },
  {
   "cell_type": "code",
   "execution_count": 18,
   "metadata": {
    "collapsed": false
   },
   "outputs": [
    {
     "data": {
      "text/html": [
       "<div>\n",
       "<table border=\"1\" class=\"dataframe\">\n",
       "  <thead>\n",
       "    <tr style=\"text-align: right;\">\n",
       "      <th></th>\n",
       "      <th>drug</th>\n",
       "      <th>target</th>\n",
       "    </tr>\n",
       "  </thead>\n",
       "  <tbody>\n",
       "    <tr>\n",
       "      <th>0</th>\n",
       "      <td>http://www.wikidata.org/entity/Q22075909</td>\n",
       "      <td>http://www.wikidata.org/entity/Q408575</td>\n",
       "    </tr>\n",
       "    <tr>\n",
       "      <th>1</th>\n",
       "      <td>http://www.wikidata.org/entity/Q22075909</td>\n",
       "      <td>http://www.wikidata.org/entity/Q21111224</td>\n",
       "    </tr>\n",
       "    <tr>\n",
       "      <th>2</th>\n",
       "      <td>http://www.wikidata.org/entity/Q22075909</td>\n",
       "      <td>http://www.wikidata.org/entity/Q1920577</td>\n",
       "    </tr>\n",
       "    <tr>\n",
       "      <th>3</th>\n",
       "      <td>http://www.wikidata.org/entity/Q22075909</td>\n",
       "      <td>http://www.wikidata.org/entity/Q21130485</td>\n",
       "    </tr>\n",
       "    <tr>\n",
       "      <th>4</th>\n",
       "      <td>http://www.wikidata.org/entity/Q22075909</td>\n",
       "      <td>http://www.wikidata.org/entity/Q21149579</td>\n",
       "    </tr>\n",
       "  </tbody>\n",
       "</table>\n",
       "</div>"
      ],
      "text/plain": [
       "                                       drug  \\\n",
       "0  http://www.wikidata.org/entity/Q22075909   \n",
       "1  http://www.wikidata.org/entity/Q22075909   \n",
       "2  http://www.wikidata.org/entity/Q22075909   \n",
       "3  http://www.wikidata.org/entity/Q22075909   \n",
       "4  http://www.wikidata.org/entity/Q22075909   \n",
       "\n",
       "                                     target  \n",
       "0    http://www.wikidata.org/entity/Q408575  \n",
       "1  http://www.wikidata.org/entity/Q21111224  \n",
       "2   http://www.wikidata.org/entity/Q1920577  \n",
       "3  http://www.wikidata.org/entity/Q21130485  \n",
       "4  http://www.wikidata.org/entity/Q21149579  "
      ]
     },
     "execution_count": 18,
     "metadata": {},
     "output_type": "execute_result"
    }
   ],
   "source": [
    "\n",
    "tmp_list = []\n",
    "for x in drug_target_list:\n",
    "    tmp_list.append([x['drug_qid'], x['target_qid']])\n",
    "    \n",
    "drug_target_table = pd.DataFrame(tmp_list, columns=['drug', 'target'])\n",
    "    \n",
    "drug_target_table.head()"
   ]
  },
  {
   "cell_type": "code",
   "execution_count": 19,
   "metadata": {
    "collapsed": true
   },
   "outputs": [],
   "source": [
    "drug_target_table.to_csv('sawada.csv')"
   ]
  },
  {
   "cell_type": "code",
   "execution_count": null,
   "metadata": {
    "collapsed": true
   },
   "outputs": [],
   "source": []
  }
 ],
 "metadata": {
  "kernelspec": {
   "display_name": "Python 3",
   "language": "python",
   "name": "python3"
  },
  "language_info": {
   "codemirror_mode": {
    "name": "ipython",
    "version": 3
   },
   "file_extension": ".py",
   "mimetype": "text/x-python",
   "name": "python",
   "nbconvert_exporter": "python",
   "pygments_lexer": "ipython3",
   "version": "3.5.3"
  }
 },
 "nbformat": 4,
 "nbformat_minor": 2
}
