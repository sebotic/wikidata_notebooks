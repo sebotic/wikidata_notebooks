{
 "cells": [
  {
   "cell_type": "code",
   "execution_count": 3,
   "metadata": {
    "collapsed": false
   },
   "outputs": [],
   "source": [
    "import requests\n",
    "import pprint\n",
    "import pandas as pd\n",
    "import wikidataintegrator as wdi\n",
    "\n",
    "s = requests.Session()\n",
    "\n",
    "\n",
    "def sparql_map(prop_nr):\n",
    "    query = '''\n",
    "    SELECT DISTINCT * WHERE {{\n",
    "        ?c wdt:{} ?id .\n",
    "    }}\n",
    "    '''.format(prop_nr)\n",
    "    \n",
    "    results = wdi.wdi_core.WDItemEngine.execute_sparql_query(query)\n",
    "    \n",
    "    id_map = {}\n",
    "    for x in results['results']['bindings']:\n",
    "        id_map.update({x['id']['value']: x['c']['value']})\n",
    "        \n",
    "    return id_map\n",
    "\n",
    "def generate_gene_protein_map():\n",
    "    query = '''\n",
    "    SELECT DISTINCT * WHERE {\n",
    "      ?c wdt:P353 ?hgnc.\n",
    "      ?c wdt:P688 ?protein.\n",
    "      ?protein wdt:P352 ?uniprot .\n",
    "    }\n",
    "    '''\n",
    "    \n",
    "    results = wdi.wdi_core.WDItemEngine.execute_sparql_query(query)\n",
    "    \n",
    "    id_map = {}\n",
    "    for x in results['results']['bindings']:\n",
    "        if x['hgnc']['value'] in id_map:\n",
    "            id_map[x['hgnc']['value']].add(x['protein']['value'])\n",
    "        else:\n",
    "            id_map.update({x['hgnc']['value']: {x['protein']['value']}})\n",
    "        \n",
    "    return id_map\n",
    "\n",
    "gene_protein_map = generate_gene_protein_map()\n",
    "\n",
    "\n",
    "\n",
    "pubchem_map = sparql_map('P662')\n",
    "\n"
   ]
  },
  {
   "cell_type": "code",
   "execution_count": 4,
   "metadata": {
    "collapsed": false
   },
   "outputs": [],
   "source": [
    "fu_data = pd.read_csv('/home/sebastian/jupyter-notebooks/paper_data/Fu et al 2016 data PMID:27071755/12859_2016_1005_MOESM5_ESM(1)/evolving_network_prediction/positive_CPI_test_with_slaprawscore.csv',\n",
    "                     header=None)\n",
    "\n",
    "\n",
    "    "
   ]
  },
  {
   "cell_type": "code",
   "execution_count": 5,
   "metadata": {
    "collapsed": false
   },
   "outputs": [
    {
     "data": {
      "text/html": [
       "<div>\n",
       "<table border=\"1\" class=\"dataframe\">\n",
       "  <thead>\n",
       "    <tr style=\"text-align: right;\">\n",
       "      <th></th>\n",
       "      <th>0</th>\n",
       "      <th>1</th>\n",
       "      <th>2</th>\n",
       "    </tr>\n",
       "  </thead>\n",
       "  <tbody>\n",
       "    <tr>\n",
       "      <th>0</th>\n",
       "      <td>660379</td>\n",
       "      <td>GMNN</td>\n",
       "      <td>0.0</td>\n",
       "    </tr>\n",
       "    <tr>\n",
       "      <th>1</th>\n",
       "      <td>44587447</td>\n",
       "      <td>NAT1</td>\n",
       "      <td>0.0</td>\n",
       "    </tr>\n",
       "    <tr>\n",
       "      <th>2</th>\n",
       "      <td>20760215</td>\n",
       "      <td>FXA</td>\n",
       "      <td>23.9</td>\n",
       "    </tr>\n",
       "    <tr>\n",
       "      <th>3</th>\n",
       "      <td>44407823</td>\n",
       "      <td>TFA</td>\n",
       "      <td>0.0</td>\n",
       "    </tr>\n",
       "    <tr>\n",
       "      <th>4</th>\n",
       "      <td>44414763</td>\n",
       "      <td>HTT</td>\n",
       "      <td>0.0</td>\n",
       "    </tr>\n",
       "  </tbody>\n",
       "</table>\n",
       "</div>"
      ],
      "text/plain": [
       "          0     1     2\n",
       "0    660379  GMNN   0.0\n",
       "1  44587447  NAT1   0.0\n",
       "2  20760215   FXA  23.9\n",
       "3  44407823   TFA   0.0\n",
       "4  44414763   HTT   0.0"
      ]
     },
     "execution_count": 5,
     "metadata": {},
     "output_type": "execute_result"
    }
   ],
   "source": [
    "fu_data.head()"
   ]
  },
  {
   "cell_type": "code",
   "execution_count": 16,
   "metadata": {
    "collapsed": false
   },
   "outputs": [
    {
     "name": "stdout",
     "output_type": "stream",
     "text": [
      "8151\n",
      "{'drug_qid': 'http://www.wikidata.org/entity/Q2268463', 'target_qid': 'http://www.wikidata.org/entity/Q5401858'}\n"
     ]
    }
   ],
   "source": [
    "drug_target_list = []\n",
    "\n",
    "for c, x in fu_data.iterrows():\n",
    "    hgnc = x[1]\n",
    "    pubchem = str(x[0])\n",
    "    \n",
    "    if pubchem in pubchem_map:\n",
    "        pubchem_qid = pubchem_map[pubchem]\n",
    "#         print(pubchem_qid)\n",
    "    else:\n",
    "        continue\n",
    "    \n",
    "    if hgnc in gene_protein_map:\n",
    "        for y in gene_protein_map[hgnc]:\n",
    "            drug_target_list.append({'target_qid': y, 'drug_qid': pubchem_qid})\n",
    "                \n",
    "\n",
    "print(len(drug_target_list))\n",
    "print(drug_target_list[1])"
   ]
  },
  {
   "cell_type": "code",
   "execution_count": 17,
   "metadata": {
    "collapsed": false
   },
   "outputs": [
    {
     "data": {
      "text/html": [
       "<div>\n",
       "<table border=\"1\" class=\"dataframe\">\n",
       "  <thead>\n",
       "    <tr style=\"text-align: right;\">\n",
       "      <th></th>\n",
       "      <th>drug</th>\n",
       "      <th>target</th>\n",
       "    </tr>\n",
       "  </thead>\n",
       "  <tbody>\n",
       "    <tr>\n",
       "      <th>0</th>\n",
       "      <td>http://www.wikidata.org/entity/Q417884</td>\n",
       "      <td>http://www.wikidata.org/entity/Q4734884</td>\n",
       "    </tr>\n",
       "    <tr>\n",
       "      <th>1</th>\n",
       "      <td>http://www.wikidata.org/entity/Q2268463</td>\n",
       "      <td>http://www.wikidata.org/entity/Q5401858</td>\n",
       "    </tr>\n",
       "    <tr>\n",
       "      <th>2</th>\n",
       "      <td>http://www.wikidata.org/entity/Q417824</td>\n",
       "      <td>http://www.wikidata.org/entity/Q21111564</td>\n",
       "    </tr>\n",
       "    <tr>\n",
       "      <th>3</th>\n",
       "      <td>http://www.wikidata.org/entity/Q5957181</td>\n",
       "      <td>http://www.wikidata.org/entity/Q21130913</td>\n",
       "    </tr>\n",
       "    <tr>\n",
       "      <th>4</th>\n",
       "      <td>http://www.wikidata.org/entity/Q425119</td>\n",
       "      <td>http://www.wikidata.org/entity/Q4847910</td>\n",
       "    </tr>\n",
       "  </tbody>\n",
       "</table>\n",
       "</div>"
      ],
      "text/plain": [
       "                                      drug  \\\n",
       "0   http://www.wikidata.org/entity/Q417884   \n",
       "1  http://www.wikidata.org/entity/Q2268463   \n",
       "2   http://www.wikidata.org/entity/Q417824   \n",
       "3  http://www.wikidata.org/entity/Q5957181   \n",
       "4   http://www.wikidata.org/entity/Q425119   \n",
       "\n",
       "                                     target  \n",
       "0   http://www.wikidata.org/entity/Q4734884  \n",
       "1   http://www.wikidata.org/entity/Q5401858  \n",
       "2  http://www.wikidata.org/entity/Q21111564  \n",
       "3  http://www.wikidata.org/entity/Q21130913  \n",
       "4   http://www.wikidata.org/entity/Q4847910  "
      ]
     },
     "execution_count": 17,
     "metadata": {},
     "output_type": "execute_result"
    }
   ],
   "source": [
    "tmp_list = []\n",
    "for x in drug_target_list:\n",
    "    tmp_list.append([x['drug_qid'], x['target_qid']])\n",
    "    \n",
    "drug_target_table = pd.DataFrame(tmp_list, columns=['drug', 'target'])\n",
    "    \n",
    "drug_target_table.head()"
   ]
  },
  {
   "cell_type": "code",
   "execution_count": 18,
   "metadata": {
    "collapsed": true
   },
   "outputs": [],
   "source": [
    "drug_target_table.to_csv('fu.csv')"
   ]
  },
  {
   "cell_type": "code",
   "execution_count": null,
   "metadata": {
    "collapsed": true
   },
   "outputs": [],
   "source": []
  }
 ],
 "metadata": {
  "kernelspec": {
   "display_name": "Python 3",
   "language": "python",
   "name": "python3"
  },
  "language_info": {
   "codemirror_mode": {
    "name": "ipython",
    "version": 3
   },
   "file_extension": ".py",
   "mimetype": "text/x-python",
   "name": "python",
   "nbconvert_exporter": "python",
   "pygments_lexer": "ipython3",
   "version": "3.5.3"
  }
 },
 "nbformat": 4,
 "nbformat_minor": 2
}
